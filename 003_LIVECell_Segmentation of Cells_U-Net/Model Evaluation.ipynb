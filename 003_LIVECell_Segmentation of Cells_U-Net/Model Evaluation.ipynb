{
 "cells": [
  {
   "cell_type": "markdown",
   "id": "35ae5bcc-bc7d-40e2-8482-a61a44f0025b",
   "metadata": {},
   "source": [
    "## Load Annotations and Map IDs"
   ]
  },
  {
   "cell_type": "code",
   "execution_count": 2,
   "id": "d6de3f7e-7f86-4311-92bf-993628de4c56",
   "metadata": {},
   "outputs": [
    {
     "name": "stdout",
     "output_type": "stream",
     "text": [
      "Total images in test set: 1512\n",
      "Total images matched with annotations: 1512\n"
     ]
    }
   ],
   "source": [
    "import os\n",
    "import json\n",
    "\n",
    "# Paths to test set folder and annotation file\n",
    "test_images_folder = r\"C:\\Users\\shali\\Documents\\L&D\\GitHub Projects\\Machine Learning\\003_LIVECell_Segmentation of Cells_U-Net\\images\\test set\"\n",
    "test_annotations_path = r\"C:\\Users\\shali\\Documents\\L&D\\GitHub Projects\\Machine Learning\\003_LIVECell_Segmentation of Cells_U-Net\\annotations\\LIVECell_test.json\"\n",
    "\n",
    "# Load the annotation file\n",
    "with open(test_annotations_path, 'r') as f:\n",
    "    annotations = json.load(f)\n",
    "\n",
    "# Map image filenames to annotations\n",
    "image_filename_to_id = {image['file_name']: image['id'] for image in annotations['images']}\n",
    "id_to_annotations = {}\n",
    "for annotation in annotations['annotations']:\n",
    "    image_id = annotation['image_id']\n",
    "    if image_id not in id_to_annotations:\n",
    "        id_to_annotations[image_id] = []\n",
    "    id_to_annotations[image_id].append(annotation)\n",
    "\n",
    "print(f\"Total images in test set: {len(os.listdir(test_images_folder))}\")\n",
    "print(f\"Total images matched with annotations: {len(image_filename_to_id)}\")"
   ]
  },
  {
   "cell_type": "markdown",
   "id": "47b0ef61-3630-4520-b5fd-d83c46e92597",
   "metadata": {},
   "source": [
    "## Preprocess Images and Generate Masks"
   ]
  },
  {
   "cell_type": "code",
   "execution_count": 4,
   "id": "f151abda-5239-4a51-9a13-fd83913e01ec",
   "metadata": {},
   "outputs": [
    {
     "name": "stdout",
     "output_type": "stream",
     "text": [
      "Test data shape: (1512, 512, 512, 3), Test masks shape: (1512, 512, 512)\n"
     ]
    }
   ],
   "source": [
    "import numpy as np\n",
    "import cv2\n",
    "\n",
    "# Function to preprocess test set\n",
    "def preprocess_test_set(images_folder, img_size=(512, 512)):\n",
    "    images = []\n",
    "    masks = []\n",
    "\n",
    "    for image_filename in os.listdir(images_folder):\n",
    "        image_path = os.path.join(images_folder, image_filename)\n",
    "\n",
    "        # Load and preprocess the image\n",
    "        image = cv2.imread(image_path, cv2.IMREAD_COLOR)\n",
    "        image = cv2.cvtColor(image, cv2.COLOR_BGR2RGB)\n",
    "        image = cv2.resize(image, img_size) / 255.0  # Resize and normalize\n",
    "        images.append(image)\n",
    "\n",
    "        # Generate binary mask\n",
    "        mask = np.zeros(img_size, dtype=np.uint8)\n",
    "        if image_filename in image_filename_to_id:\n",
    "            image_id = image_filename_to_id[image_filename]\n",
    "            if image_id in id_to_annotations:\n",
    "                for ann in id_to_annotations[image_id]:\n",
    "                    for seg in ann['segmentation']:\n",
    "                        poly = np.array(seg).reshape((-1, 2))\n",
    "                        scale_x = img_size[0] / annotations['images'][0]['width']\n",
    "                        scale_y = img_size[1] / annotations['images'][0]['height']\n",
    "                        poly[:, 0] *= scale_x\n",
    "                        poly[:, 1] *= scale_y\n",
    "                        poly = np.round(poly).astype(np.int32)\n",
    "                        cv2.fillPoly(mask, [poly], 1)\n",
    "        masks.append(mask)\n",
    "\n",
    "    return np.array(images), np.array(masks)\n",
    "\n",
    "# Preprocess the test set\n",
    "X_test, y_test = preprocess_test_set(test_images_folder)\n",
    "\n",
    "# Check shapes\n",
    "print(f\"Test data shape: {X_test.shape}, Test masks shape: {y_test.shape}\")"
   ]
  },
  {
   "cell_type": "code",
   "execution_count": 6,
   "id": "7b93304a-ce81-4304-9d74-c5d9177eebae",
   "metadata": {},
   "outputs": [
    {
     "name": "stdout",
     "output_type": "stream",
     "text": [
      "Updated Test masks shape: (1512, 512, 512, 1)\n"
     ]
    }
   ],
   "source": [
    "# Ensure test masks have the correct shape\n",
    "if len(y_test.shape) == 3:  # Check if channel dimension is missing\n",
    "    y_test = np.expand_dims(y_test, axis=-1)  # Add channel dimension\n",
    "    print(f\"Updated Test masks shape: {y_test.shape}\")"
   ]
  },
  {
   "cell_type": "markdown",
   "id": "12d76354-e9f9-44a5-9c19-f285bcdfea2c",
   "metadata": {},
   "source": [
    "## Load the Model"
   ]
  },
  {
   "cell_type": "code",
   "execution_count": 8,
   "id": "63d3774d-eded-46dd-898d-8980a3ea5d90",
   "metadata": {},
   "outputs": [
    {
     "name": "stderr",
     "output_type": "stream",
     "text": [
      "WARNING:absl:Compiled the loaded model, but the compiled metrics have yet to be built. `model.compile_metrics` will be empty until you train or evaluate the model.\n"
     ]
    },
    {
     "name": "stdout",
     "output_type": "stream",
     "text": [
      "Model loaded successfully!\n"
     ]
    }
   ],
   "source": [
    "import tensorflow as tf\n",
    "from tensorflow.keras import backend as K\n",
    "\n",
    "# Redefine custom metrics\n",
    "def iou_metric(y_true, y_pred):\n",
    "    y_true = tf.cast(y_true, tf.float32)  # Ensure y_true is float32\n",
    "    y_pred = tf.cast(y_pred > 0.5, tf.float32)  # Threshold predictions at 0.5\n",
    "    intersection = K.sum(y_true * y_pred)\n",
    "    union = K.sum(y_true) + K.sum(y_pred) - intersection\n",
    "    return intersection / (union + K.epsilon())  # Add epsilon to avoid division by zero\n",
    "\n",
    "def dice_coefficient(y_true, y_pred):\n",
    "    y_true = tf.cast(y_true, tf.float32)  # Ensure y_true is float32\n",
    "    y_pred = tf.cast(y_pred > 0.5, tf.float32)  # Threshold predictions at 0.5\n",
    "    intersection = K.sum(y_true * y_pred)\n",
    "    dice = (2. * intersection) / (K.sum(y_true) + K.sum(y_pred) + K.epsilon())\n",
    "    return dice\n",
    "\n",
    "# Load the saved model\n",
    "from tensorflow.keras.models import load_model\n",
    "\n",
    "model_path = r\"C:\\Users\\shali\\Documents\\L&D\\GitHub Projects\\Machine Learning\\003_LIVECell_Segmentation of Cells_U-Net\\output_model\\unet_trained_model.h5\"\n",
    "trained_model = load_model(\n",
    "    model_path,\n",
    "    custom_objects={\"iou_metric\": iou_metric, \"dice_coefficient\": dice_coefficient}\n",
    ")\n",
    "print(\"Model loaded successfully!\")"
   ]
  },
  {
   "cell_type": "markdown",
   "id": "8205079f-d5cd-4427-ae50-db2813fafd44",
   "metadata": {},
   "source": [
    "### Data Preparation and Preprocessing prior to model evaluation"
   ]
  },
  {
   "cell_type": "code",
   "execution_count": 10,
   "id": "4259cb20-d0bf-46d3-af49-77f657ba9058",
   "metadata": {},
   "outputs": [
    {
     "name": "stdout",
     "output_type": "stream",
     "text": [
      "X_test shape: (1512, 512, 512, 3)\n",
      "y_test shape: (1512, 512, 512, 1)\n"
     ]
    }
   ],
   "source": [
    "print(f\"X_test shape: {X_test.shape}\")\n",
    "print(f\"y_test shape: {y_test.shape}\")"
   ]
  },
  {
   "cell_type": "code",
   "execution_count": 12,
   "id": "b5fd9ecf-4223-49b8-a5bc-240451a13412",
   "metadata": {},
   "outputs": [
    {
     "name": "stdout",
     "output_type": "stream",
     "text": [
      "X_test dtype: float64\n",
      "y_test dtype: uint8\n"
     ]
    }
   ],
   "source": [
    "print(f\"X_test dtype: {X_test.dtype}\")\n",
    "print(f\"y_test dtype: {y_test.dtype}\")"
   ]
  },
  {
   "cell_type": "code",
   "execution_count": 14,
   "id": "7aeb8da8-53a7-4391-8e27-8cf9b2c5579c",
   "metadata": {},
   "outputs": [],
   "source": [
    "# Convert X_test to float32\n",
    "X_test = X_test.astype(np.float32)\n",
    "\n",
    "# Convert y_test to float32 and ensure binary values (0 or 1)\n",
    "y_test = y_test.astype(np.float32)\n",
    "y_test = (y_test > 0.5).astype(np.float32)  # Optional: Ensure binary masks if not already"
   ]
  },
  {
   "cell_type": "code",
   "execution_count": 15,
   "id": "35d4bb06-8c62-4f11-892f-41b1a8f300db",
   "metadata": {},
   "outputs": [
    {
     "name": "stdout",
     "output_type": "stream",
     "text": [
      "X_test dtype: float32\n",
      "y_test dtype: float32\n",
      "Unique values in y_test: [0. 1.]\n"
     ]
    }
   ],
   "source": [
    "print(f\"X_test dtype: {X_test.dtype}\")\n",
    "print(f\"y_test dtype: {y_test.dtype}\")\n",
    "print(f\"Unique values in y_test: {np.unique(y_test)}\")"
   ]
  },
  {
   "cell_type": "markdown",
   "id": "9eee7688-e8fd-4563-9717-0f301e864844",
   "metadata": {},
   "source": [
    "## Quantitative Model Evaluation"
   ]
  },
  {
   "cell_type": "code",
   "execution_count": 18,
   "id": "bebca5ee-98f5-47a5-b918-9b30c3767413",
   "metadata": {},
   "outputs": [
    {
     "name": "stdout",
     "output_type": "stream",
     "text": [
      "\u001b[1m48/48\u001b[0m \u001b[32m━━━━━━━━━━━━━━━━━━━━\u001b[0m\u001b[37m\u001b[0m \u001b[1m351s\u001b[0m 7s/step - accuracy: 0.8799 - dice_coefficient: 0.7790 - iou_metric: 0.6530 - loss: 0.2858\n",
      "Test Loss: 0.3606\n",
      "Test Accuracy: 0.8384\n",
      "Test IoU: 0.6112\n",
      "Test Dice Coefficient: 0.7493\n"
     ]
    }
   ],
   "source": [
    "test_loss, test_accuracy, test_iou, test_dice = trained_model.evaluate(X_test, y_test, verbose=1)\n",
    "\n",
    "print(f\"Test Loss: {test_loss:.4f}\")\n",
    "print(f\"Test Accuracy: {test_accuracy:.4f}\")\n",
    "print(f\"Test IoU: {test_iou:.4f}\")\n",
    "print(f\"Test Dice Coefficient: {test_dice:.4f}\")"
   ]
  },
  {
   "cell_type": "markdown",
   "id": "d69b3049-bffc-4b73-968d-c1a9556393a1",
   "metadata": {},
   "source": [
    "# TO BE UPDATED FURTHER - WORK IN PROGRESS"
   ]
  },
  {
   "cell_type": "code",
   "execution_count": null,
   "id": "1a7b43f6-af05-4d74-9209-2e1a5548154c",
   "metadata": {},
   "outputs": [],
   "source": []
  }
 ],
 "metadata": {
  "kernelspec": {
   "display_name": "Python [conda env:base] *",
   "language": "python",
   "name": "conda-base-py"
  },
  "language_info": {
   "codemirror_mode": {
    "name": "ipython",
    "version": 3
   },
   "file_extension": ".py",
   "mimetype": "text/x-python",
   "name": "python",
   "nbconvert_exporter": "python",
   "pygments_lexer": "ipython3",
   "version": "3.12.3"
  }
 },
 "nbformat": 4,
 "nbformat_minor": 5
}
